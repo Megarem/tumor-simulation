{
 "cells": [
  {
   "cell_type": "markdown",
   "metadata": {},
   "source": [
    "### Charger et compiler le projet ecm\n",
    "___"
   ]
  },
  {
   "cell_type": "code",
   "execution_count": 1,
   "metadata": {},
   "outputs": [
    {
     "name": "stdout",
     "output_type": "stream",
     "text": [
      "InitialConditioncreator.ipynb  sbi_project_ecm.ipynb\n",
      "NN\t\t\t       sbi_toolbox.ipynb\n",
      "PhysiCell\t\t       simulation_POC_1_param_prolif.ipynb\n",
      "README.md\t\t       simulation_POC_adhesion_repulsion.ipynb\n",
      "env\t\t\t       simulation_POC_rules_prolif.ipynb\n",
      "ic_3D.py\t\t       simulator_3_pop_proportion.ipynb\n",
      "inference.pkl\t\t       simulator_invasion.ipynb\n",
      "output.png\t\t       simulator_leader_cell_path.ipynb\n",
      "requirements.txt\t       simulatorwrap.ipynb\n",
      "sbi-logs\n"
     ]
    }
   ],
   "source": [
    "# Verifier qu'on se trouve dans le répertoire PhysiCell\n",
    "!ls"
   ]
  },
  {
   "cell_type": "code",
   "execution_count": 2,
   "metadata": {},
   "outputs": [],
   "source": [
    "# Sinon, se déplacer dans le répertoire PhysiCell\n",
    "import os\n",
    "os.chdir(\"PhysiCell\")"
   ]
  },
  {
   "cell_type": "code",
   "execution_count": 3,
   "metadata": {},
   "outputs": [],
   "source": [
    "# Ici, changer et mettre le bon nom du projet\n",
    "project_name = \"ecm\""
   ]
  },
  {
   "cell_type": "code",
   "execution_count": 12,
   "metadata": {
    "vscode": {
     "languageId": "shellscript"
    }
   },
   "outputs": [
    {
     "name": "stdout",
     "output_type": "stream",
     "text": [
      "rm -f *.o\n",
      "rm -f project*\n"
     ]
    },
    {
     "name": "stdout",
     "output_type": "stream",
     "text": [
      "rm -rf *.mat\n",
      "rm -rf *.xml\n",
      "rm -rf *.svg\n",
      "rm -rf ./output/*\n",
      "touch ./output/empty.txt\n",
      "rm -f *.cpp \n",
      "cp ./sample_projects/Makefile-default Makefile \n",
      "rm -f ./custom_modules/*\n",
      "touch ./custom_modules/empty.txt \n",
      "touch ALL_CITATIONS.txt \n",
      "touch ./core/PhysiCell_cell.cpp\n",
      "rm ALL_CITATIONS.txt \n",
      "cp ./config/PhysiCell_settings-backup.xml ./config/PhysiCell_settings.xml \n",
      "touch ./config/empty.csv\n",
      "rm -f ./config/*.csv\n",
      "echo \"Loading project from ecm ... \"\n",
      "Loading project from ecm ... \n",
      "cp ./user_projects/ecm/main.cpp .\n",
      "cp ./user_projects/ecm/Makefile .\n",
      "cp ./user_projects/ecm/config/* ./config/ \n",
      "cp ./user_projects/ecm/custom_modules/* ./custom_modules/ \n",
      "g++  -march=native  -O3 -fomit-frame-pointer -mfpmath=both -fopenmp -m64 -std=c++11  -c ./BioFVM/BioFVM_vector.cpp \n",
      "g++  -march=native  -O3 -fomit-frame-pointer -mfpmath=both -fopenmp -m64 -std=c++11  -c ./BioFVM/BioFVM_mesh.cpp \n",
      "g++  -march=native  -O3 -fomit-frame-pointer -mfpmath=both -fopenmp -m64 -std=c++11  -c ./BioFVM/BioFVM_microenvironment.cpp \n",
      "g++  -march=native  -O3 -fomit-frame-pointer -mfpmath=both -fopenmp -m64 -std=c++11  -c ./BioFVM/BioFVM_solvers.cpp \n",
      "g++  -march=native  -O3 -fomit-frame-pointer -mfpmath=both -fopenmp -m64 -std=c++11  -c ./BioFVM/BioFVM_matlab.cpp\n",
      "g++  -march=native  -O3 -fomit-frame-pointer -mfpmath=both -fopenmp -m64 -std=c++11  -c ./BioFVM/BioFVM_utilities.cpp \n",
      "g++  -march=native  -O3 -fomit-frame-pointer -mfpmath=both -fopenmp -m64 -std=c++11  -c ./BioFVM/BioFVM_basic_agent.cpp \n",
      "g++  -march=native  -O3 -fomit-frame-pointer -mfpmath=both -fopenmp -m64 -std=c++11  -c ./BioFVM/BioFVM_MultiCellDS.cpp\n",
      "g++  -march=native  -O3 -fomit-frame-pointer -mfpmath=both -fopenmp -m64 -std=c++11  -c ./BioFVM/BioFVM_agent_container.cpp \n",
      "g++  -march=native  -O3 -fomit-frame-pointer -mfpmath=both -fopenmp -m64 -std=c++11  -c ./BioFVM/pugixml.cpp\n",
      "g++  -march=native  -O3 -fomit-frame-pointer -mfpmath=both -fopenmp -m64 -std=c++11  -c ./core/PhysiCell_phenotype.cpp\n",
      "g++  -march=native  -O3 -fomit-frame-pointer -mfpmath=both -fopenmp -m64 -std=c++11  -c ./core/PhysiCell_cell_container.cpp \n",
      "g++  -march=native  -O3 -fomit-frame-pointer -mfpmath=both -fopenmp -m64 -std=c++11  -c ./core/PhysiCell_standard_models.cpp \n",
      "g++  -march=native  -O3 -fomit-frame-pointer -mfpmath=both -fopenmp -m64 -std=c++11  -c ./core/PhysiCell_cell.cpp \n",
      "g++  -march=native  -O3 -fomit-frame-pointer -mfpmath=both -fopenmp -m64 -std=c++11  -c ./core/PhysiCell_custom.cpp \n",
      "g++  -march=native  -O3 -fomit-frame-pointer -mfpmath=both -fopenmp -m64 -std=c++11  -c ./core/PhysiCell_utilities.cpp \n",
      "g++  -march=native  -O3 -fomit-frame-pointer -mfpmath=both -fopenmp -m64 -std=c++11  -c ./core/PhysiCell_constants.cpp \n",
      "g++  -march=native  -O3 -fomit-frame-pointer -mfpmath=both -fopenmp -m64 -std=c++11  -c ./core/PhysiCell_basic_signaling.cpp \t\n",
      "g++  -march=native  -O3 -fomit-frame-pointer -mfpmath=both -fopenmp -m64 -std=c++11  -c ./core/PhysiCell_signal_behavior.cpp \n",
      "g++  -march=native  -O3 -fomit-frame-pointer -mfpmath=both -fopenmp -m64 -std=c++11  -c ./core/PhysiCell_rules.cpp \n",
      "g++  -march=native  -O3 -fomit-frame-pointer -mfpmath=both -fopenmp -m64 -std=c++11  -c ./modules/PhysiCell_SVG.cpp\n",
      "g++  -march=native  -O3 -fomit-frame-pointer -mfpmath=both -fopenmp -m64 -std=c++11  -c ./modules/PhysiCell_pathology.cpp\n",
      "g++  -march=native  -O3 -fomit-frame-pointer -mfpmath=both -fopenmp -m64 -std=c++11  -c ./modules/PhysiCell_MultiCellDS.cpp\n",
      "g++  -march=native  -O3 -fomit-frame-pointer -mfpmath=both -fopenmp -m64 -std=c++11  -c ./modules/PhysiCell_various_outputs.cpp\n",
      "g++  -march=native  -O3 -fomit-frame-pointer -mfpmath=both -fopenmp -m64 -std=c++11  -c ./modules/PhysiCell_pugixml.cpp\n",
      "g++  -march=native  -O3 -fomit-frame-pointer -mfpmath=both -fopenmp -m64 -std=c++11  -c ./modules/PhysiCell_settings.cpp\t\n",
      "g++  -march=native  -O3 -fomit-frame-pointer -mfpmath=both -fopenmp -m64 -std=c++11  -c ./modules/PhysiCell_geometry.cpp \n",
      "\u001b[01m\u001b[K./modules/PhysiCell_geometry.cpp:\u001b[m\u001b[K In function ‘\u001b[01m\u001b[Kbool PhysiCell::load_cells_from_pugixml(pugi::xml_node)\u001b[m\u001b[K’:\n",
      "\u001b[01m\u001b[K./modules/PhysiCell_geometry.cpp:308:23:\u001b[m\u001b[K \u001b[01;35m\u001b[Kwarning: \u001b[m\u001b[Kignoring return value of ‘\u001b[01m\u001b[Kint system(const char*)\u001b[m\u001b[K’ declared with attribute ‘\u001b[01m\u001b[Kwarn_unused_result\u001b[m\u001b[K’ [\u001b[01;35m\u001b[K\u001b]8;;https://gcc.gnu.org/onlinedocs/gcc/Warning-Options.html#index-Wunused-result\u0007-Wunused-result\u001b]8;;\u0007\u001b[m\u001b[K]\n",
      "  308 |                 \u001b[01;35m\u001b[Ksystem(\"sleep 1\")\u001b[m\u001b[K;\n",
      "      |                 \u001b[01;35m\u001b[K~~~~~~^~~~~~~~~~~\u001b[m\u001b[K\n",
      "g++  -march=native  -O3 -fomit-frame-pointer -mfpmath=both -fopenmp -m64 -std=c++11  -c ./custom_modules/AMIGOS-invasion_uncoupled.cpp\n",
      "g++  -march=native  -O3 -fomit-frame-pointer -mfpmath=both -fopenmp -m64 -std=c++11  -c ./custom_modules/extracellular_matrix.cpp\n",
      "g++  -march=native  -O3 -fomit-frame-pointer -mfpmath=both -fopenmp -m64 -std=c++11  -c ./custom_modules/cell_ECM_interactions.cpp\n",
      "g++  -march=native  -O3 -fomit-frame-pointer -mfpmath=both -fopenmp -m64 -std=c++11  -o project BioFVM_vector.o BioFVM_mesh.o BioFVM_microenvironment.o BioFVM_solvers.o BioFVM_matlab.o BioFVM_utilities.o BioFVM_basic_agent.o BioFVM_MultiCellDS.o BioFVM_agent_container.o   pugixml.o PhysiCell_phenotype.o PhysiCell_cell_container.o PhysiCell_standard_models.o PhysiCell_cell.o PhysiCell_custom.o PhysiCell_utilities.o PhysiCell_constants.o PhysiCell_basic_signaling.o PhysiCell_signal_behavior.o PhysiCell_rules.o PhysiCell_SVG.o PhysiCell_pathology.o PhysiCell_MultiCellDS.o PhysiCell_various_outputs.o PhysiCell_pugixml.o PhysiCell_settings.o PhysiCell_geometry.o AMIGOS-invasion_uncoupled.o extracellular_matrix.o cell_ECM_interactions.o main.cpp \n"
     ]
    }
   ],
   "source": [
    "!make clean\n",
    "!make data-cleanup\n",
    "!make reset\n",
    "!make load PROJ=$project_name\n",
    "!make"
   ]
  },
  {
   "cell_type": "markdown",
   "metadata": {},
   "source": [
    "### Modifier le projet\n",
    "___"
   ]
  },
  {
   "cell_type": "code",
   "execution_count": 12,
   "metadata": {
    "vscode": {
     "languageId": "shellscript"
    }
   },
   "outputs": [
    {
     "name": "stdout",
     "output_type": "stream",
     "text": [
      "args= Namespace(bare=False, three=False, tensor=False, skip_validate=False, nanohub=False, config='config/PhysiCell_settings.xml', exec='project')\n",
      "unknown= []\n",
      "exec_file exists\n",
      "PhysiCellXMLCreator(): self.nanohub_flag=  False\n",
      "  platform.system().lower()=linux, platform.machine()=x86_64\n",
      "Could not parse application stylesheet\n",
      "self.current_dir =  /home/aymeric/tumor-simulation/PhysiCell\n",
      "self.studio_root_dir =  /home/aymeric/tumor-simulation/PhysiCell/studio\n",
      "self.config_dir =  /home/aymeric/tumor-simulation/PhysiCell/config\n",
      "got config_file= config/PhysiCell_settings.xml\n",
      "studio: (default) self.config_file = /home/aymeric/tumor-simulation/PhysiCell/config/PhysiCell_settings.xml\n",
      "studio: (default) self.tree = <xml.etree.ElementTree.ElementTree object at 0x7f3f6952ebf0>\n",
      "studio: (default) self.xml_root = <Element 'PhysiCell_settings' at 0x7f3f69530540>\n",
      "QLayout::addChildLayout: layout \"\" already has a parent\n",
      "Could not parse stylesheet of object Config(0x55ca2ae55570)\n",
      "studio.py: ---- FALSE nanohub_flag: NOT updating config_tab folder\n",
      "----- init_default_phenotype_params(self, cdname): reset_mapping= False\n",
      "---- new_mechanics_params(): cdname_new=  leader cell\n",
      "new_motility_params():  leader cell\n",
      "new_secretion_params():  leader cell\n",
      "\n",
      "\n",
      "-----------\n",
      "populate*.py: l. 1255 ---- transformation_rates_path = .//cell_definition[1]//phenotype//cell_transformations//transformation_rates\n",
      "---- found cell_transformations for leader cell, now loop thru them:\n",
      "populate_tree_cell_defs.py: leader cell----> transformation_rate= {'leader cell': '0.0', 'follower cell': '0.0', 'microglia': '0.0', 'astrocyte': '0.0'}\n",
      "----- init_default_phenotype_params(self, cdname): reset_mapping= False\n",
      "---- new_mechanics_params(): cdname_new=  follower cell\n",
      "new_motility_params():  follower cell\n",
      "new_secretion_params():  follower cell\n",
      "\n",
      "\n",
      "-----------\n",
      "populate*.py: l. 1255 ---- transformation_rates_path = .//cell_definition[2]//phenotype//cell_transformations//transformation_rates\n",
      "---- found cell_transformations for follower cell, now loop thru them:\n",
      "populate_tree_cell_defs.py: follower cell----> transformation_rate= {'leader cell': '0.0', 'follower cell': '0.0', 'microglia': '0.0', 'astrocyte': '0.0'}\n",
      "----- init_default_phenotype_params(self, cdname): reset_mapping= False\n",
      "---- new_mechanics_params(): cdname_new=  microglia\n",
      "new_motility_params():  microglia\n",
      "new_secretion_params():  microglia\n",
      "\n",
      "\n",
      "-----------\n",
      "populate*.py: l. 1255 ---- transformation_rates_path = .//cell_definition[3]//phenotype//cell_transformations//transformation_rates\n",
      "---- found cell_transformations for microglia, now loop thru them:\n",
      "populate_tree_cell_defs.py: microglia----> transformation_rate= {'leader cell': '0.0', 'follower cell': '0.0', 'microglia': '0.0', 'astrocyte': '0.0'}\n",
      "----- init_default_phenotype_params(self, cdname): reset_mapping= False\n",
      "---- new_mechanics_params(): cdname_new=  astrocyte\n",
      "new_motility_params():  astrocyte\n",
      "new_secretion_params():  astrocyte\n",
      "\n",
      "\n",
      "-----------\n",
      "populate*.py: l. 1255 ---- transformation_rates_path = .//cell_definition[4]//phenotype//cell_transformations//transformation_rates\n",
      "---- found cell_transformations for astrocyte, now loop thru them:\n",
      "populate_tree_cell_defs.py: astrocyte----> transformation_rate= {'leader cell': '0.0', 'follower cell': '0.0', 'microglia': '0.0', 'astrocyte': '0.0'}\n",
      "\n",
      "------ cell_adhesion_affinity_dropdown_changed_cb(): idx =  0\n",
      "   self.cell_adhesion_affinity_celltype =  leader cell\n",
      "studio.py:  None\n",
      "Could not parse stylesheet of object Config(0x55ca2ae55570)\n",
      "Could not parse stylesheet of object Config(0x55ca2ae55570)\n",
      "self.num_cols =  9\n",
      "\n",
      "\n",
      "------------\n",
      "rules_tab.py: fill_gui():\n",
      "cell type ---> leader cell\n",
      "           dict_keys(['leader cell', 'follower cell', 'microglia', 'astrocyte'])\n",
      "cell type ---> follower cell\n",
      "cell type ---> microglia\n",
      "cell type ---> astrocyte\n",
      "substrate type ---> oxygen\n",
      "substrate type ---> debris\n",
      "substrate type ---> gradients\n",
      "substrate type ---> track_in_agents\n",
      "rules_tab.py: fill_gui(): <cell_rules> =  <Element 'ruleset' at 0x7f3f69530630>\n",
      "rules_tab.py: fill_gui():  folder_name =  ./config\n",
      "rules_tab.py: fill_gui():  file_name =  rules.csv\n",
      "fill_rules():  os.getcwd()= /home/aymeric/tumor-simulation/PhysiCell\n",
      "rules_tab.py: fill_gui()----- calling fill_rules() with  full_rules_fname=  /home/aymeric/tumor-simulation/PhysiCell/./config/rules.csv\n",
      "elm #0 =  ['follower cell', 'oxygen', 'increases', 'cycle entry', '0.0007', '21.5', '4', '0']\n",
      "elm #0 =  ['follower cell', 'pressure', 'decreases', 'cycle entry', '0', '1', '4', '0']\n",
      "elm #0 =  ['follower cell', 'dead', 'increases', 'debris secretion', '1', '0.5', '10', '1']\n",
      "elm #0 =  ['follower cell', 'oxygen', 'decreases', 'necrosis', '0', '3.75', '8', '0']\n",
      "elm #0 =  ['follower cell', 'oxygen', 'decreases', 'migration speed', '0', '7.5', '4', '0']\n",
      "elm #0 =  ['follower cell', 'oxygen', 'increases', 'cell-cell adhesion', '0.4', '7.5', '4', '0']\n",
      "elm #0 =  ['microglia', 'pressure', 'decreases', 'cycle entry', '0.0', '1', '4', '0']\n",
      "elm #0 =  ['astrocyte', 'pressure', 'decreases', 'cycle entry', '0.0', '1', '4', '0']\n",
      "elm #0 =  ['astrocyte', 'oxygen', 'increases', 'cycle entry', '0.0007', '1', '4', '0']\n",
      "elm #0 =  ['microglia', 'oxygen', 'increases', 'cycle entry', '0.0007', '1', '4', '0']\n",
      "elm=  ['follower cell', 'oxygen', 'increases', 'cycle entry', '0.0007', '21.5', '4', '0']\n",
      "len(elm)=  8\n",
      "setting dead checkbox False\n",
      "elm=  ['follower cell', 'pressure', 'decreases', 'cycle entry', '0', '1', '4', '0']\n",
      "len(elm)=  8\n",
      "setting dead checkbox False\n",
      "elm=  ['follower cell', 'dead', 'increases', 'debris secretion', '1', '0.5', '10', '1']\n",
      "len(elm)=  8\n",
      "setting dead checkbox True\n",
      "elm=  ['follower cell', 'oxygen', 'decreases', 'necrosis', '0', '3.75', '8', '0']\n",
      "len(elm)=  8\n",
      "setting dead checkbox False\n",
      "elm=  ['follower cell', 'oxygen', 'decreases', 'migration speed', '0', '7.5', '4', '0']\n",
      "len(elm)=  8\n",
      "setting dead checkbox False\n",
      "elm=  ['follower cell', 'oxygen', 'increases', 'cell-cell adhesion', '0.4', '7.5', '4', '0']\n",
      "len(elm)=  8\n",
      "setting dead checkbox False\n",
      "elm=  ['microglia', 'pressure', 'decreases', 'cycle entry', '0.0', '1', '4', '0']\n",
      "len(elm)=  8\n",
      "setting dead checkbox False\n",
      "elm=  ['astrocyte', 'pressure', 'decreases', 'cycle entry', '0.0', '1', '4', '0']\n",
      "len(elm)=  8\n",
      "setting dead checkbox False\n",
      "elm=  ['astrocyte', 'oxygen', 'increases', 'cycle entry', '0.0007', '1', '4', '0']\n",
      "len(elm)=  8\n",
      "setting dead checkbox False\n",
      "elm=  ['microglia', 'oxygen', 'increases', 'cycle entry', '0.0007', '1', '4', '0']\n",
      "len(elm)=  8\n",
      "setting dead checkbox False\n",
      "fill_rules():  num_rules= 10\n",
      "----- enable_3Dwidgets: bval =  False\n",
      "----- enable_3Dwidgets: bval =  False\n",
      "studio.py: ---- FALSE nanohub_flag: NOT updating ics_tab folder\n",
      "studio.py: self.homedir =  /home/aymeric/tumor-simulation/PhysiCell\n",
      "--- VisBase: model3D_flag= False\n",
      "\n",
      "--   vis_tab.py: --------- create_figure(): ------- creating figure, canvas, ax0\n",
      "     self.canvas=  <matplotlib.backends.backend_qtagg.FigureCanvasQTAgg object at 0x7f3f681e5360>\n",
      "vis_tab:reset_model(): Warning: Expecting initial.xml, but does not exist.\n",
      "update_output_dir(): yes, it is a dir path output\n",
      "vis_base:----- init_plot_range:\n",
      "      call get_domain_params()\n",
      "update_output_dir(): yes, it is a dir path output\n",
      "size= PyQt5.QtCore.QSize(1100, 770)\n",
      "---- check_valid_cell_defs(): ---\n",
      "dupes= []\n",
      "leader cell, 0\n",
      "follower cell, 1\n",
      "microglia, 2\n",
      "astrocyte, 3\n",
      "id_l=[0, 1, 2, 3]\n",
      "id_l (sorted)=[0, 1, 2, 3]\n",
      "  found 0 ID\n",
      "------- config_tab.py: fill_xml(): setting folder = output\n",
      "------------cell_def_tab.py: fill_xml(): (original) IDs = ['0', '1', '2', '3']\n",
      "------------------- fill_xml_interactions():  cdef= leader cell\n",
      "  key in live_phagocytosis_rate= leader cell\n",
      "leader cell  --> 0.0\n",
      "  key in live_phagocytosis_rate= follower cell\n",
      "follower cell  --> 0.0\n",
      "  key in live_phagocytosis_rate= microglia\n",
      "microglia  --> 0.0\n",
      "  key in live_phagocytosis_rate= astrocyte\n",
      "astrocyte  --> 0.0\n",
      "  key in live_phagocytosis_rate= \n",
      "------------------- fill_xml_interactions():  cdef= follower cell\n",
      "  key in live_phagocytosis_rate= leader cell\n",
      "leader cell  --> 0.0\n",
      "  key in live_phagocytosis_rate= follower cell\n",
      "follower cell  --> 0.0\n",
      "  key in live_phagocytosis_rate= microglia\n",
      "microglia  --> 0.0\n",
      "  key in live_phagocytosis_rate= astrocyte\n",
      "astrocyte  --> 0.0\n",
      "------------------- fill_xml_interactions():  cdef= microglia\n",
      "  key in live_phagocytosis_rate= leader cell\n",
      "leader cell  --> 0.0\n",
      "  key in live_phagocytosis_rate= follower cell\n",
      "follower cell  --> 0.0\n",
      "  key in live_phagocytosis_rate= microglia\n",
      "microglia  --> 0.0\n",
      "  key in live_phagocytosis_rate= astrocyte\n",
      "astrocyte  --> 0.0\n",
      "------------------- fill_xml_interactions():  cdef= astrocyte\n",
      "  key in live_phagocytosis_rate= leader cell\n",
      "leader cell  --> 0.0\n",
      "  key in live_phagocytosis_rate= follower cell\n",
      "follower cell  --> 0.0\n",
      "  key in live_phagocytosis_rate= microglia\n",
      "microglia  --> 0.0\n",
      "  key in live_phagocytosis_rate= astrocyte\n",
      "astrocyte  --> 0.0\n",
      "\n",
      "--------- user_params_tab.py:  fill_xml(): self.count = 100\n",
      "rules_tab: save_rules_cb(): folder, file= ./config rules.csv\n",
      "   irow= 0 , col 1 text= follower cell\n",
      "   irow= 1 , col 1 text= follower cell\n",
      "   irow= 2 , col 1 text= follower cell\n",
      "   irow= 3 , col 1 text= follower cell\n",
      "   irow= 4 , col 1 text= follower cell\n",
      "   irow= 5 , col 1 text= follower cell\n",
      "   irow= 6 , col 1 text= microglia\n",
      "   irow= 7 , col 1 text= astrocyte\n",
      "   irow= 8 , col 1 text= astrocyte\n",
      "   irow= 9 , col 1 text= microglia\n",
      "   irow= 10 , col 1 text= \n",
      "rules_tab.py: Wrote rules to /home/aymeric/tumor-simulation/PhysiCell/config/rules.csv\n",
      "studio.py:  save_cb: writing to:  /home/aymeric/tumor-simulation/PhysiCell/config/PhysiCell_settings.xml\n",
      "---- check_valid_cell_defs(): ---\n",
      "dupes= []\n",
      "leader cell, 0\n",
      "follower cell, 1\n",
      "microglia, 2\n",
      "astrocyte, 3\n",
      "id_l=[0, 1, 2, 3]\n",
      "id_l (sorted)=[0, 1, 2, 3]\n",
      "  found 0 ID\n",
      "------- config_tab.py: fill_xml(): setting folder = output\n",
      "------------cell_def_tab.py: fill_xml(): (original) IDs = ['0', '1', '2', '3']\n",
      "------------------- fill_xml_interactions():  cdef= leader cell\n",
      "  key in live_phagocytosis_rate= leader cell\n",
      "leader cell  --> 0.0\n",
      "  key in live_phagocytosis_rate= follower cell\n",
      "follower cell  --> 0.0\n",
      "  key in live_phagocytosis_rate= microglia\n",
      "microglia  --> 0.0\n",
      "  key in live_phagocytosis_rate= astrocyte\n",
      "astrocyte  --> 0.0\n",
      "  key in live_phagocytosis_rate= \n",
      "------------------- fill_xml_interactions():  cdef= follower cell\n",
      "  key in live_phagocytosis_rate= leader cell\n",
      "leader cell  --> 0.0\n",
      "  key in live_phagocytosis_rate= follower cell\n",
      "follower cell  --> 0.0\n",
      "  key in live_phagocytosis_rate= microglia\n",
      "microglia  --> 0.0\n",
      "  key in live_phagocytosis_rate= astrocyte\n",
      "astrocyte  --> 0.0\n",
      "------------------- fill_xml_interactions():  cdef= microglia\n",
      "  key in live_phagocytosis_rate= leader cell\n",
      "leader cell  --> 0.0\n",
      "  key in live_phagocytosis_rate= follower cell\n",
      "follower cell  --> 0.0\n",
      "  key in live_phagocytosis_rate= microglia\n",
      "microglia  --> 0.0\n",
      "  key in live_phagocytosis_rate= astrocyte\n",
      "astrocyte  --> 0.0\n",
      "------------------- fill_xml_interactions():  cdef= astrocyte\n",
      "  key in live_phagocytosis_rate= leader cell\n",
      "leader cell  --> 0.0\n",
      "  key in live_phagocytosis_rate= follower cell\n",
      "follower cell  --> 0.0\n",
      "  key in live_phagocytosis_rate= microglia\n",
      "microglia  --> 0.0\n",
      "  key in live_phagocytosis_rate= astrocyte\n",
      "astrocyte  --> 0.0\n",
      "\n",
      "--------- user_params_tab.py:  fill_xml(): self.count = 100\n",
      "rules_tab: save_rules_cb(): folder, file= ./config rules.csv\n",
      "   irow= 0 , col 1 text= follower cell\n",
      "   irow= 1 , col 1 text= follower cell\n",
      "   irow= 2 , col 1 text= follower cell\n",
      "   irow= 3 , col 1 text= follower cell\n",
      "   irow= 4 , col 1 text= follower cell\n",
      "   irow= 5 , col 1 text= follower cell\n",
      "   irow= 6 , col 1 text= microglia\n",
      "   irow= 7 , col 1 text= astrocyte\n",
      "   irow= 8 , col 1 text= astrocyte\n",
      "   irow= 9 , col 1 text= microglia\n",
      "   irow= 10 , col 1 text= \n",
      "rules_tab.py: Wrote rules to /home/aymeric/tumor-simulation/PhysiCell/config/rules.csv\n",
      "run_tab.py:  also copy to /home/aymeric/tumor-simulation/PhysiCell/output/PhysiCell_settings.xml\n",
      "vis_tab.py: plot_svg(): Warning: full_fname not found:  output/snapshot00000000.svg\n",
      "vis_base:----- init_plot_range:\n",
      "      call get_domain_params()\n",
      "vis3D_tab.py: get_domain_params(): full_fname output/initial.xml does not exist, leaving!\n",
      "vis_tab:reset_model(): Warning: Expecting initial.xml, but does not exist.\n",
      "vis_tab.py: plot_svg(): Warning: full_fname not found:  output/snapshot00000000.svg\n",
      "\n",
      "--- run_tab:  calling vis_tab.build_physiboss_info()\n",
      "build_physiboss_info(): get_cell_types():  config_file= /home/aymeric/tumor-simulation/PhysiCell/config/PhysiCell_settings.xml\n",
      "get_cell_types():  basename= PhysiCell_settings.xml\n",
      "get_cell_types():  out_config_file= /home/aymeric/tumor-simulation/PhysiCell/config/PhysiCell_settings.xml\n",
      "physiboss_node_dict : {}\n",
      "\n",
      "--------- physiboss_vis_hide()\n",
      "\n",
      "--- run_tab:  xml_str before run is  /home/aymeric/tumor-simulation/PhysiCell/config/PhysiCell_settings.xml\n",
      "--- run_tab:  exec_str before run is  /home/aymeric/tumor-simulation/PhysiCell/config/PhysiCell_settings.xml\n",
      "studio.py: need to update Rules comboboxes for changed custom data\n",
      "\n",
      "-------  vis_base:  add_partial_cell_vars():   self.output_dir=  output\n"
     ]
    }
   ],
   "source": [
    "# Si on souhaite ouvrir l'interface du projet\n",
    "# La ligne suivante est spécifique au projet ecm puisqu'on utilise studio_ecm plutôt que studio\n",
    "\n",
    "!python3 studio/bin/studio_ecm.py -e project -c config/PhysiCell_settings.xml"
   ]
  },
  {
   "cell_type": "code",
   "execution_count": 14,
   "metadata": {
    "vscode": {
     "languageId": "shellscript"
    }
   },
   "outputs": [
    {
     "name": "stdout",
     "output_type": "stream",
     "text": [
      "echo \"Saving project as ecm ... \"\n",
      "Saving project as ecm ... \n",
      "mkdir -p ./user_projects\n",
      "mkdir -p ./user_projects/ecm\n",
      "mkdir -p ./user_projects/ecm/custom_modules\n",
      "mkdir -p ./user_projects/ecm/config \n",
      "cp main.cpp ./user_projects/ecm\n",
      "cp Makefile ./user_projects/ecm\n",
      "cp VERSION.txt ./user_projects/ecm\n",
      "cp ./config/* ./user_projects/ecm/config\n",
      "cp ./custom_modules/* ./user_projects/ecm/custom_modules\n"
     ]
    }
   ],
   "source": [
    "# Sauvegarder les modifications réalisées dans user_projects\n",
    "!make save PROJ=$project_name"
   ]
  },
  {
   "cell_type": "markdown",
   "metadata": {},
   "source": [
    "## SBI\n",
    "___"
   ]
  },
  {
   "cell_type": "code",
   "execution_count": 4,
   "metadata": {},
   "outputs": [],
   "source": [
    "import xml.etree.ElementTree as ET\n",
    "\n",
    "def modify_xml_value(file_path, tag_path, new_value):\n",
    "    tree = ET.parse(file_path)\n",
    "    root = tree.getroot()\n",
    "    element = root\n",
    "    for tag in tag_path:\n",
    "        element = element.find(tag)\n",
    "        if element is None:\n",
    "            print(f\"Balise '{tag}' non trouvée dans le chemin spécifié.\")\n",
    "            return False\n",
    "    element.text = str(new_value)\n",
    "    tree.write(file_path, encoding=\"utf-8\", xml_declaration=True)\n",
    "    return True"
   ]
  },
  {
   "cell_type": "code",
   "execution_count": 6,
   "metadata": {},
   "outputs": [],
   "source": [
    "import xml.etree.ElementTree as ET\n",
    "\n",
    "def get_agent_count(svg_file_path):\n",
    "    # Parse the SVG file\n",
    "    tree = ET.parse(svg_file_path)\n",
    "    root = tree.getroot()\n",
    "    \n",
    "    # Define the namespace\n",
    "    namespaces = {'svg': 'http://www.w3.org/2000/svg'}\n",
    "    \n",
    "    # Find all text elements\n",
    "    text_elements = root.findall('.//svg:text', namespaces)\n",
    "    \n",
    "    # Iterate through text elements to find the one containing the agent count\n",
    "    for elem in text_elements:\n",
    "        if 'agents' in elem.text:\n",
    "            # Extract the number of agents from the text\n",
    "            agent_count = int(''.join(filter(str.isdigit, elem.text)))\n",
    "            return agent_count\n",
    "    \n",
    "    # If no agent count was found, return None or raise an exception\n",
    "    return None"
   ]
  },
  {
   "cell_type": "code",
   "execution_count": 9,
   "metadata": {},
   "outputs": [],
   "source": [
    "import torch\n",
    "import subprocess\n",
    "\n",
    "def simulation(params):\n",
    "\n",
    "    if len(params.shape) == 1:\n",
    "        n = 1\n",
    "        num_params = len(params)\n",
    "    else:\n",
    "        n, num_params = params.shape\n",
    "    \n",
    "    results = []\n",
    "    \n",
    "    for i in range(n):\n",
    "        if n == 1:\n",
    "            current_params = params\n",
    "        else:\n",
    "            current_params = params[i]\n",
    "\n",
    "        # Liste des chemins XML et des noms de paramètres\n",
    "        xml_paths = [\n",
    "            [\"cell_definitions\", \"cell_definition[@name='follower cell']\", \"phenotype\", \"cycle\", \"phase_transition_rates\", \"rate\"]\n",
    "        ]\n",
    "\n",
    "        # Modification des valeurs XML pour chaque paramètre disponible\n",
    "        for j in range(min(num_params, len(xml_paths))):\n",
    "            modify_xml_value(\"config/PhysiCell_settings.xml\", xml_paths[j], current_params[j].item())\n",
    "\n",
    "        subprocess.run([\"./project\"], stdout=subprocess.DEVNULL)\n",
    "\n",
    "        svg_filename = '/home/aymeric/tumor-simulation/PhysiCell/output/final.svg'\n",
    "        agent_count = get_agent_count(svg_filename)\n",
    "        results.append(torch.tensor(agent_count))\n",
    "    results = torch.tensor(results)\n",
    "    return results.flatten()"
   ]
  },
  {
   "cell_type": "code",
   "execution_count": 15,
   "metadata": {},
   "outputs": [
    {
     "name": "stdout",
     "output_type": "stream",
     "text": [
      "tensor([764])\n"
     ]
    }
   ],
   "source": [
    "print(simulation(torch.tensor([0.02])))"
   ]
  },
  {
   "cell_type": "code",
   "execution_count": 18,
   "metadata": {},
   "outputs": [],
   "source": [
    "import torch\n",
    "from sbi.inference import prepare_for_sbi\n",
    "\n",
    "from sbi import utils as utils\n",
    "from sbi import analysis as analysis\n",
    "\n",
    "\n",
    "# Définir les bornes inférieures pour chaque dimension\n",
    "low = torch.tensor([0]) # 1 paramètre donc 1 borne min\n",
    "\n",
    "# Définir les bornes supérieures pour chaque dimension\n",
    "high = torch.tensor([0.05]) # 1 paramètre donc 1 borne max\n",
    "\n",
    "# Créer le a priori uniforme avec les bornes spécifiées\n",
    "prior = utils.BoxUniform(low=low, high=high)\n",
    "\n",
    "simulator, prior = prepare_for_sbi(simulation, prior)"
   ]
  },
  {
   "cell_type": "code",
   "execution_count": 19,
   "metadata": {},
   "outputs": [],
   "source": [
    "from sbi.inference import SNPE\n",
    "\n",
    "inference = SNPE(prior=prior)"
   ]
  },
  {
   "cell_type": "code",
   "execution_count": 20,
   "metadata": {},
   "outputs": [
    {
     "name": "stderr",
     "output_type": "stream",
     "text": [
      "Running 5 simulations.: 100%|██████████| 5/5 [01:41<00:00, 20.29s/it]\n"
     ]
    }
   ],
   "source": [
    "from sbi.inference import simulate_for_sbi\n",
    "\n",
    "theta, x = simulate_for_sbi(simulator, proposal=prior, num_simulations=5) # 5 simulations pour l'exemple"
   ]
  },
  {
   "cell_type": "code",
   "execution_count": 21,
   "metadata": {},
   "outputs": [
    {
     "name": "stderr",
     "output_type": "stream",
     "text": [
      "/home/aymeric/tumor-simulation/env/lib/python3.10/site-packages/sbi/neural_nets/flow.py:142: UserWarning: In one-dimensional output space, this flow is limited to Gaussians\n",
      "  warn(\"In one-dimensional output space, this flow is limited to Gaussians\")\n"
     ]
    },
    {
     "name": "stdout",
     "output_type": "stream",
     "text": [
      " Neural network successfully converged after 56 epochs."
     ]
    }
   ],
   "source": [
    "# On ajoute les simulations à l'objet inference\n",
    "inference = inference.append_simulations(theta, x)\n",
    "\n",
    "# On entraîne le réseau de neurones\n",
    "density_estimator = inference.train()\n"
   ]
  },
  {
   "cell_type": "code",
   "execution_count": 22,
   "metadata": {},
   "outputs": [],
   "source": [
    "posterior = inference.build_posterior(density_estimator)"
   ]
  },
  {
   "cell_type": "code",
   "execution_count": 23,
   "metadata": {},
   "outputs": [],
   "source": [
    "theta = torch.tensor([0.02]) # Paramètre de départ que l'on cherche à prédire\n",
    "x_o = simulation(theta) # Résultat de la simulation pour le paramètre de départ"
   ]
  },
  {
   "cell_type": "code",
   "execution_count": 24,
   "metadata": {},
   "outputs": [
    {
     "name": "stderr",
     "output_type": "stream",
     "text": [
      "Drawing 10000 posterior samples: 100%|██████████| 10000/10000 [00:00<00:00, 214776.41it/s]\n"
     ]
    },
    {
     "data": {
      "image/png": "[encoded data removed]",
      "text/plain": [
       "<Figure size 500x500 with 1 Axes>"
      ]
     },
     "metadata": {},
     "output_type": "display_data"
    }
   ],
   "source": [
    "# On génère 10000 échantillons à partir du posterior (très rapide car on utilise un NN)\n",
    "posterior_samples = posterior.sample((10000,), x=x_o) \n",
    "\n",
    "# plot posterior samples\n",
    "_ = analysis.pairplot(\n",
    "    posterior_samples, limits=[[0, 0.05]], figsize=(5, 5) # bornes min et max pour chaque paramètre à changer\n",
    ")"
   ]
  }
 ],
 "metadata": {
  "kernelspec": {
   "display_name": "env",
   "language": "python",
   "name": "python3"
  },
  "language_info": {
   "codemirror_mode": {
    "name": "ipython",
    "version": 3
   },
   "file_extension": ".py",
   "mimetype": "text/x-python",
   "name": "python",
   "nbconvert_exporter": "python",
   "pygments_lexer": "ipython3",
   "version": "3.10.12"
  }
 },
 "nbformat": 4,
 "nbformat_minor": 2
}
