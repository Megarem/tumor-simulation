{
 "cells": [
  {
   "cell_type": "code",
   "execution_count": 1,
   "metadata": {},
   "outputs": [],
   "source": [
    "import pandas as pd\n",
    "import numpy as np\n",
    "\n",
    "def remplacer_follower_cell(fichier_csv, probas, fichier_sortie):\n",
    "    # Lire le fichier CSV\n",
    "    df = pd.read_csv(fichier_csv)\n",
    "    \n",
    "    # Vérifier que la somme des probabilités est égale à 1\n",
    "    if not np.isclose(sum(probas.values()), 1):\n",
    "        raise ValueError(\"La somme des probabilités doit être égale à 1\")\n",
    "    \n",
    "    # Remplacer les valeurs dans la colonne 'type'\n",
    "    conditions = df['type'] == 'follower cell'\n",
    "    nb_follower_cells = df[conditions].shape[0]\n",
    "    \n",
    "    # Générer de nouvelles valeurs selon les probabilités\n",
    "    nouvelles_valeurs = np.random.choice(list(probas.keys()), size=nb_follower_cells, p=list(probas.values()))\n",
    "    \n",
    "    # Appliquer les nouvelles valeurs\n",
    "    df.loc[conditions, 'type'] = nouvelles_valeurs\n",
    "    \n",
    "    # Sauvegarder le fichier modifié\n",
    "    df.to_csv(fichier_sortie, index=False)\n",
    "\n"
   ]
  },
  {
   "cell_type": "code",
   "execution_count": 2,
   "metadata": {},
   "outputs": [],
   "source": [
    "\n",
    "probas = {'microglia': 0.395, 'follower cell': 0.313, 'astrocyte': 0.292}\n",
    "remplacer_follower_cell('/home/aymeric/tumor-simulation/PhysiCell/config/cells.csv', probas, '/home/aymeric/tumor-simulation/PhysiCell/config/cells2.csv')"
   ]
  },
  {
   "cell_type": "code",
   "execution_count": 1,
   "metadata": {},
   "outputs": [],
   "source": [
    "def remplacer_follower_cell_par_proportions(fichier_csv, proportions, fichier_sortie):\n",
    "    # Lire le fichier CSV\n",
    "    df = pd.read_csv(fichier_csv)\n",
    "    \n",
    "    # Vérifier la validité des proportions\n",
    "    if sum(proportions.values()) > df.shape[0]:\n",
    "        raise ValueError(\"La somme des proportions ne peut pas dépasser le nombre total de lignes dans le fichier CSV\")\n",
    "    \n",
    "    # Nombre de 'follower cell' à remplacer\n",
    "    nb_follower_cells = (df['type'] == 'follower cell').sum()\n",
    "    \n",
    "    # Vérifier que les proportions ne dépassent pas le nombre de 'follower cell'\n",
    "    if sum(proportions.values()) > nb_follower_cells:\n",
    "        raise ValueError(\"La somme des proportions ne peut pas dépasser le nombre de 'follower cell'\")\n",
    "    \n",
    "    # Générer les nouvelles valeurs selon les proportions spécifiées\n",
    "    nouvelles_valeurs = (\n",
    "        ['microglia'] * proportions['microglia'] + \n",
    "        ['follower cell'] * proportions['follower cell'] + \n",
    "        ['astrocyte'] * proportions['astrocyte']\n",
    "    )\n",
    "    \n",
    "    # Mélanger les nouvelles valeurs pour éviter des patterns\n",
    "    np.random.shuffle(nouvelles_valeurs)\n",
    "    \n",
    "    # Remplacer les 'follower cell' par les nouvelles valeurs\n",
    "    index_to_replace = df[df['type'] == 'follower cell'].index[:len(nouvelles_valeurs)]\n",
    "    df.loc[index_to_replace, 'type'] = nouvelles_valeurs\n",
    "    \n",
    "    # Sauvegarder le fichier modifié\n",
    "    df.to_csv(fichier_sortie, index=False)"
   ]
  },
  {
   "cell_type": "code",
   "execution_count": 6,
   "metadata": {},
   "outputs": [],
   "source": [
    "\n",
    "propor = {'microglia': 189, 'follower cell': 149, 'astrocyte': 139}\n",
    "remplacer_follower_cell_par_proportions('/home/aymeric/tumor-simulation/PhysiCell/config/cells.csv', propor, '/home/aymeric/tumor-simulation/PhysiCell/config/cells2.csv')"
   ]
  },
  {
   "cell_type": "code",
   "execution_count": 2,
   "metadata": {},
   "outputs": [],
   "source": [
    "\n",
    "probas = {'follower cell': 0.95, 'leader cell': 0.05}\n",
    "remplacer_follower_cell('/home/aymeric/tumor-simulation/PhysiCell/config/cells.csv', probas, '/home/aymeric/tumor-simulation/PhysiCell/config/cells.csv')"
   ]
  }
 ],
 "metadata": {
  "kernelspec": {
   "display_name": "env",
   "language": "python",
   "name": "python3"
  },
  "language_info": {
   "codemirror_mode": {
    "name": "ipython",
    "version": 3
   },
   "file_extension": ".py",
   "mimetype": "text/x-python",
   "name": "python",
   "nbconvert_exporter": "python",
   "pygments_lexer": "ipython3",
   "version": "3.10.12"
  }
 },
 "nbformat": 4,
 "nbformat_minor": 2
}
