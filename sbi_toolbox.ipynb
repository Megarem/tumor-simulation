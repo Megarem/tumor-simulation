{
 "cells": [
  {
   "cell_type": "markdown",
   "metadata": {},
   "source": [
    "# Boite à outils pour sbi\n",
    "___\n",
    "\n",
    "Pour le sommaire, voir le Outline sur VSCode\n"
   ]
  },
  {
   "cell_type": "markdown",
   "metadata": {},
   "source": [
    "## Fonctions pour modifier les paramètres de PhysiCell\n",
    "___"
   ]
  },
  {
   "cell_type": "markdown",
   "metadata": {},
   "source": [
    "### Fonction pour modifier PhysiCell_settings.xml\n",
    "___"
   ]
  },
  {
   "cell_type": "code",
   "execution_count": 1,
   "metadata": {},
   "outputs": [],
   "source": [
    "import xml.etree.ElementTree as ET\n",
    "\n",
    "def modify_xml_value(file_path, tag_path, new_value):\n",
    "    tree = ET.parse(file_path)\n",
    "    root = tree.getroot()\n",
    "    element = root\n",
    "    for tag in tag_path:\n",
    "        element = element.find(tag)\n",
    "        if element is None:\n",
    "            print(f\"Balise '{tag}' non trouvée dans le chemin spécifié.\")\n",
    "            return False\n",
    "    element.text = str(new_value)\n",
    "    tree.write(file_path, encoding=\"utf-8\", xml_declaration=True)\n",
    "    return True"
   ]
  },
  {
   "cell_type": "markdown",
   "metadata": {},
   "source": [
    "#### Exemples d'utilisation"
   ]
  },
  {
   "cell_type": "code",
   "execution_count": null,
   "metadata": {},
   "outputs": [],
   "source": [
    "# Exemple 1 : modifier le temps total de simulation\n",
    "tag_path = [\"overall\", \"max_time\"]\n",
    "new_value = 1440\n",
    "modify_xml_value(\"config/PhysiCell_settings.xml\", tag_path, new_value)\n",
    "\n",
    "# Exemple 2 : modifier le pas de temps de enregistrement des données\n",
    "tag_path = [\"save\", \"SVG\", \"interval\"]\n",
    "new_value = 200\n",
    "modify_xml_value(\"config/PhysiCell_settings.xml\", tag_path, new_value)\n",
    "tag_path = [\"save\", \"full_data\", \"interval\"]\n",
    "modify_xml_value(\"config/PhysiCell_settings.xml\", tag_path, new_value)\n",
    "\n",
    "# Exemple 3 : modifier la force de répulsion entre les cellules de type \"follower cell\"\n",
    "tag_path = [\"cell_definitions\", \"cell_definition[@name='follower cell']\", \"phenotype\",\"mechanics\", \"cell_cell_repulsion_strength\"]\n",
    "new_value = 90\n",
    "modify_xml_value(\"config/PhysiCell_settings.xml\", tag_path, new_value)\n",
    "# Utiliser [@attribut='valeur'] pour les balises avec attributs comment cell_definition\n"
   ]
  },
  {
   "cell_type": "markdown",
   "metadata": {},
   "source": [
    "### Fonction pour modifier rules.csv\n",
    "___"
   ]
  },
  {
   "cell_type": "code",
   "execution_count": null,
   "metadata": {},
   "outputs": [],
   "source": [
    "import csv\n",
    "def change_csv_value(csv_file_path, row_index, column_index, new_value):\n",
    "    # Read the CSV file into a list of lists\n",
    "    with open(csv_file_path, 'r') as csv_file:\n",
    "        reader = csv.reader(csv_file)\n",
    "        data = list(reader)\n",
    "    # Update the value of the specified cell\n",
    "    if 0 <= row_index < len(data) and 0 <= column_index < len(data[row_index]):\n",
    "        data[row_index][column_index] = str(new_value)\n",
    "\n",
    "        # Save the modified data to the CSV file\n",
    "        with open(csv_file_path, 'w', newline='') as csv_file:\n",
    "            writer = csv.writer(csv_file)\n",
    "            writer.writerows(data)\n",
    "\n",
    "    else:\n",
    "        print(f\"Invalid row index ({row_index}) or column index ({column_index})\")\n"
   ]
  },
  {
   "cell_type": "markdown",
   "metadata": {},
   "source": [
    "#### Exemples d'utilisation"
   ]
  },
  {
   "cell_type": "code",
   "execution_count": null,
   "metadata": {},
   "outputs": [],
   "source": [
    "# Exemple de fichier rules.csv\n",
    "\n",
    "#cancer,pressure,decreases,cycle entry,0.0,1,4,0\n",
    "#cancer,oxygen,increases,cycle entry,0.0007,21.5,4,0\n",
    "#cancer,oxygen,decreases,necrosis,0,3.75,8,0\n",
    "\n",
    "# Exemple 1 : modifier la saturation value de la première règle à 1 (au lieu de 0)\n",
    "change_csv_value('./config/rules.csv', 0, 4, 1) # (0,4) étant la ligne 0 et la colonne 4\n",
    "\n",
    "# Exemple 2 : modifier le Half-max de la deuxième règle à 20 (au lieu de 21.5)\n",
    "change_csv_value('./config/rules.csv', 1, 5, 20) # (1,5) étant la ligne 1 et la colonne 5\n",
    "\n",
    "# Exemple 3 : modifier la puissance de Hill de la deuxième règle à 5 (au lieu de 4)\n",
    "change_csv_value('./config/rules.csv', 1, 6, 5) \n",
    "\n",
    "# Exemple 4 : modifier le apply to dead de la troisème règle à 1(True) (au lieu de 0(False))\n",
    "change_csv_value('./config/rules.csv', 2, 7, 1) "
   ]
  },
  {
   "cell_type": "markdown",
   "metadata": {},
   "source": [
    "## Fonctions pour récuperer des données numériques résultat\n",
    "___"
   ]
  },
  {
   "cell_type": "markdown",
   "metadata": {},
   "source": [
    "### Fonction qui récupère le nombre total de cellules\n",
    "___\n",
    "Elle va chercher cette information dans un fichier .svg"
   ]
  },
  {
   "cell_type": "code",
   "execution_count": 2,
   "metadata": {},
   "outputs": [],
   "source": [
    "import xml.etree.ElementTree as ET\n",
    "\n",
    "def get_agent_count(svg_file_path):\n",
    "    # Parse the SVG file\n",
    "    tree = ET.parse(svg_file_path)\n",
    "    root = tree.getroot()\n",
    "    \n",
    "    # Define the namespace\n",
    "    namespaces = {'svg': 'http://www.w3.org/2000/svg'}\n",
    "    \n",
    "    # Find all text elements\n",
    "    text_elements = root.findall('.//svg:text', namespaces)\n",
    "    \n",
    "    # Iterate through text elements to find the one containing the agent count\n",
    "    for elem in text_elements:\n",
    "        if 'agents' in elem.text:\n",
    "            # Extract the number of agents from the text\n",
    "            agent_count = int(''.join(filter(str.isdigit, elem.text)))\n",
    "            return agent_count\n",
    "    \n",
    "    # If no agent count was found, return None or raise an exception\n",
    "    return None"
   ]
  },
  {
   "cell_type": "markdown",
   "metadata": {},
   "source": [
    "#### Exemple d'utilisation"
   ]
  },
  {
   "cell_type": "code",
   "execution_count": 5,
   "metadata": {},
   "outputs": [
    {
     "name": "stdout",
     "output_type": "stream",
     "text": [
      "Nombre d'agents dans le fichier final.svg : 577\n",
      "Nombre d'agents dans le fichier initial.svg : 513\n"
     ]
    }
   ],
   "source": [
    "# Exemple 1 : obtenir le nombre d'agents dans le fichier final.svg\n",
    "agent_count1 = get_agent_count('/home/aymeric/tumor-simulation/PhysiCell/output/final.svg')\n",
    "\n",
    "# Exemple 2 : obtenir le nombre d'agents dans le fichier initial.svg\n",
    "agent_count2 = get_agent_count('/home/aymeric/tumor-simulation/PhysiCell/output/initial.svg')\n",
    "\n",
    "print(f\"Nombre d'agents dans le fichier final.svg : {agent_count1}\")\n",
    "print(f\"Nombre d'agents dans le fichier initial.svg : {agent_count2}\")"
   ]
  },
  {
   "cell_type": "markdown",
   "metadata": {},
   "source": [
    "### Fonction qui récupère le nombre total de cellules d'une même population selon l'id\n",
    "___\n",
    "Elle va chercher cette information dans un fichier .mat \n",
    "L'id de chaque population est indiqué dans Cell Types"
   ]
  },
  {
   "cell_type": "code",
   "execution_count": 6,
   "metadata": {},
   "outputs": [],
   "source": [
    "import numpy as np\n",
    "import scipy.io\n",
    "\n",
    "def get_count_by_id(path_mat, id_number):\n",
    "    mat = scipy.io.loadmat(path_mat)\n",
    "    id = mat['cells'][5]\n",
    "    \n",
    "    mask_id1 = (id == id_number)\n",
    "\n",
    "    count_id1 = np.count_nonzero(mask_id1)\n",
    "\n",
    "    return count_id1"
   ]
  },
  {
   "cell_type": "markdown",
   "metadata": {},
   "source": [
    "#### Exemple d'utilisation"
   ]
  },
  {
   "cell_type": "code",
   "execution_count": 9,
   "metadata": {},
   "outputs": [
    {
     "name": "stdout",
     "output_type": "stream",
     "text": [
      "Nombre de cellules de type 1 dans le fichier output00000001_cells.mat : 528\n",
      "Nombre de cellules de type 2 dans le fichier final_cells.mat : 0\n"
     ]
    }
   ],
   "source": [
    "# Exemple 1 : obtenir le nombre de cellules de type 0 dans le fichier output00000001_cells.mat\n",
    "count_id1 = get_count_by_id('/home/aymeric/tumor-simulation/PhysiCell/output/output00000001_cells.mat', 0)\n",
    "\n",
    "# Exemple 2 : obtenir le nombre de cellules de type 2 dans le fichier final_cells.mat\n",
    "count_id2 = get_count_by_id('/home/aymeric/tumor-simulation/PhysiCell/output/final_cells.mat', 2)\n",
    "\n",
    "print(f\"Nombre de cellules de type 1 dans le fichier output00000001_cells.mat : {count_id1}\")\n",
    "print(f\"Nombre de cellules de type 2 dans le fichier final_cells.mat : {count_id2}\")"
   ]
  },
  {
   "cell_type": "markdown",
   "metadata": {},
   "source": [
    "### Fonction qui retourne la densité radiale"
   ]
  },
  {
   "cell_type": "code",
   "execution_count": 13,
   "metadata": {},
   "outputs": [],
   "source": [
    "import numpy as np\n",
    "def calculate_distances(points, center):\n",
    "    distances = np.sqrt((points[:, 0] - center[0])**2 + (points[:, 1] - center[1])**2)\n",
    "    return distances\n",
    "\n",
    "def radial_density(distances, step=10, max_distance=500):\n",
    "    # Créer les bins avec une taille allant jusqu'à 500 et un step de 10\n",
    "    bins = np.arange(0, max_distance + step, step)\n",
    "    counts, _ = np.histogram(distances, bins)\n",
    "    areas = np.pi * (bins[1:]**2 - bins[:-1]**2)\n",
    "    densities = counts / areas\n",
    "    return bins[:-1], densities\n",
    "\n",
    "def get_radial_density(path_mat):\n",
    "    mat = scipy.io.loadmat(path_mat)\n",
    "    X = mat['cells'][1]\n",
    "    Y = mat['cells'][2]\n",
    "    points = np.column_stack((X, Y));\n",
    "    center = np.array([0,0]);\n",
    "    distances = calculate_distances(points, center)\n",
    "    radii, densities = radial_density(distances)\n",
    "    resultat = [elem for pair in zip(radii, densities) for elem in pair]\n",
    "    return resultat\n"
   ]
  },
  {
   "cell_type": "markdown",
   "metadata": {},
   "source": [
    "#### Exemple d'utilisation"
   ]
  },
  {
   "cell_type": "code",
   "execution_count": 14,
   "metadata": {},
   "outputs": [
    {
     "name": "stdout",
     "output_type": "stream",
     "text": [
      "[0, 0.00954929658551372, 10, 0.009549296585513721, 20, 0.005729577951308232, 30, 0.008185111359011761, 40, 0.007427230677621782, 50, 0.007234315595086152, 60, 0.007590466516690393, 70, 0.007639437268410976, 80, 0.007864126599834828, 90, 0.007371386837940416, 100, 0.0071240784050657915, 110, 0.007750153750561861, 120, 0.00751211331393746, 130, 0.0076630157784986636, 140, 0.0075735800505798475, 150, 0.0036965019040698273, 160, 0.0006752027888747075, 170, 0.0, 180, 0.0, 190, 0.0, 200, 0.0, 210, 0.0, 220, 0.0, 230, 0.0, 240, 0.0, 250, 0.0, 260, 0.0, 270, 0.0, 280, 0.0, 290, 0.0, 300, 0.0, 310, 0.0, 320, 0.0, 330, 0.0, 340, 0.0, 350, 0.0, 360, 0.0, 370, 0.0, 380, 0.0, 390, 0.0, 400, 0.0, 410, 0.0, 420, 0.0, 430, 0.0, 440, 0.0, 450, 0.0, 460, 0.0, 470, 0.0, 480, 0.0, 490, 0.0]\n"
     ]
    }
   ],
   "source": [
    "print(get_radial_density('/home/aymeric/tumor-simulation/PhysiCell/output/final_cells.mat'))"
   ]
  },
  {
   "cell_type": "markdown",
   "metadata": {},
   "source": [
    "### Fonction qui récupère la position X et Y d'une cellule\n",
    "___\n",
    "Cette fonction est utile si on veut étudier le déplacement d'une seule cellule"
   ]
  },
  {
   "cell_type": "code",
   "execution_count": null,
   "metadata": {},
   "outputs": [],
   "source": [
    "import scipy.io\n",
    "\n",
    "def get_pos(path_mat):\n",
    "    mat = scipy.io.loadmat(path_mat)\n",
    "    X = mat['cells'][1]  \n",
    "    Y = mat['cells'][2]  \n",
    "\n",
    "    return X[0], Y[0]"
   ]
  },
  {
   "cell_type": "markdown",
   "metadata": {},
   "source": [
    "## Fonction de simulation\n",
    "___\n",
    "Cette fonction a pour objectif de créer des données en effectuant des simulations tout en faisant varier les paramètres en entrée.\n",
    "\n",
    "Voici un exemple :"
   ]
  },
  {
   "cell_type": "markdown",
   "metadata": {},
   "source": [
    "### Exemple de fonction de simulation\n",
    "___\n",
    "Cette fonction va modifier la vitesse, la force d'adhésion, de répulsion et distance equilibre des cellules \"cancer\" et va retourner comme résultat la densité radiale."
   ]
  },
  {
   "cell_type": "code",
   "execution_count": 28,
   "metadata": {},
   "outputs": [],
   "source": [
    "import torch\n",
    "import subprocess\n",
    "\n",
    "def simulation(params):\n",
    "\n",
    "    # Vérifier si les paramètres sont un vecteur ou une matrice\n",
    "    # Si c'est un vecteur, n=1, simulation(torch.tensor([0.5, 0.5, 0.05, 10, 1.25]))\n",
    "    # Si c'est une matrice, n=nombre de lignes, simulation(torch.tensor([[0.5, 0.5, 0.05, 10, 1.25], [0.6, 0.6, 0.06, 11, 1.26]]))\n",
    "    if len(params.shape) == 1:\n",
    "        n = 1\n",
    "        num_params = len(params)\n",
    "    else:\n",
    "        n, num_params = params.shape\n",
    "    \n",
    "    results = []\n",
    "    \n",
    "    for i in range(n):\n",
    "        if n == 1:\n",
    "            current_params = params\n",
    "        else:\n",
    "            current_params = params[i]\n",
    "\n",
    "        # Liste des chemins XML et des noms de paramètres\n",
    "        xml_paths = [\n",
    "            [\"cell_definitions\", \"cell_definition[@name='cancer']\", \"phenotype\", \"motility\", \"speed\"],\n",
    "            [\"cell_definitions\", \"cell_definition[@name='cancer']\", \"phenotype\", \"mechanics\", \"cell_cell_adhesion_strength\"],\n",
    "            [\"cell_definitions\", \"cell_definition[@name='cancer']\", \"phenotype\", \"mechanics\", \"cell_cell_repulsion_strength\"],\n",
    "            [\"cell_definitions\", \"cell_definition[@name='cancer']\", \"phenotype\", \"mechanics\", \"relative_maximum_adhesion_distance\"]\n",
    "        ]\n",
    "\n",
    "        # Modification des valeurs XML pour chaque paramètre disponible\n",
    "        for j in range(min(num_params, len(xml_paths))):\n",
    "            modify_xml_value(\"config/PhysiCell_settings.xml\", xml_paths[j], current_params[j].item())\n",
    "\n",
    "        subprocess.run([\"./project\"], stdout=subprocess.DEVNULL)\n",
    "\n",
    "        mat_filename = '/home/aymeric/tumor-simulation/PhysiCell/output/final_cells.mat'\n",
    "        pos = get_radial_density(mat_filename)\n",
    "        results.append(torch.tensor(pos))\n",
    "\n",
    "    results = torch.cat(results)\n",
    "    return results.flatten()"
   ]
  },
  {
   "cell_type": "markdown",
   "metadata": {},
   "source": [
    "#### Exemple d'utilisation"
   ]
  },
  {
   "cell_type": "code",
   "execution_count": 27,
   "metadata": {},
   "outputs": [
    {
     "name": "stdout",
     "output_type": "stream",
     "text": [
      "tensor([0.0000e+00, 9.5493e-03, 1.0000e+01, 8.4883e-03, 2.0000e+01, 6.3662e-03,\n",
      "        3.0000e+01, 8.1851e-03, 4.0000e+01, 7.0736e-03, 5.0000e+01, 8.3918e-03,\n",
      "        6.0000e+01, 6.8559e-03, 7.0000e+01, 7.4272e-03, 8.0000e+01, 7.4896e-03,\n",
      "        9.0000e+01, 7.7064e-03, 1.0000e+02, 7.4272e-03, 1.1000e+02, 7.8885e-03,\n",
      "        1.2000e+02, 7.6394e-03, 1.3000e+02, 6.8378e-03, 1.4000e+02, 7.3541e-03,\n",
      "        1.5000e+02, 6.0582e-03, 1.6000e+02, 6.7520e-04, 1.7000e+02, 9.0946e-05,\n",
      "        1.8000e+02, 0.0000e+00, 1.9000e+02, 0.0000e+00, 2.0000e+02, 0.0000e+00,\n",
      "        2.1000e+02, 0.0000e+00, 2.2000e+02, 0.0000e+00, 2.3000e+02, 0.0000e+00,\n",
      "        2.4000e+02, 0.0000e+00, 2.5000e+02, 0.0000e+00, 2.6000e+02, 0.0000e+00,\n",
      "        2.7000e+02, 0.0000e+00, 2.8000e+02, 0.0000e+00, 2.9000e+02, 0.0000e+00,\n",
      "        3.0000e+02, 0.0000e+00, 3.1000e+02, 0.0000e+00, 3.2000e+02, 0.0000e+00,\n",
      "        3.3000e+02, 0.0000e+00, 3.4000e+02, 0.0000e+00, 3.5000e+02, 0.0000e+00,\n",
      "        3.6000e+02, 0.0000e+00, 3.7000e+02, 0.0000e+00, 3.8000e+02, 0.0000e+00,\n",
      "        3.9000e+02, 0.0000e+00, 4.0000e+02, 0.0000e+00, 4.1000e+02, 0.0000e+00,\n",
      "        4.2000e+02, 0.0000e+00, 4.3000e+02, 0.0000e+00, 4.4000e+02, 0.0000e+00,\n",
      "        4.5000e+02, 0.0000e+00, 4.6000e+02, 0.0000e+00, 4.7000e+02, 0.0000e+00,\n",
      "        4.8000e+02, 0.0000e+00, 4.9000e+02, 0.0000e+00], dtype=torch.float64)\n",
      "tensor([0.0000e+00, 9.5493e-03, 1.0000e+01, 6.3662e-03, 2.0000e+01, 7.0028e-03,\n",
      "        3.0000e+01, 8.1851e-03, 4.0000e+01, 6.7199e-03, 5.0000e+01, 7.8131e-03,\n",
      "        6.0000e+01, 8.5699e-03, 7.0000e+01, 6.7906e-03, 8.0000e+01, 7.3024e-03,\n",
      "        9.0000e+01, 8.5441e-03, 1.0000e+02, 6.8209e-03, 1.1000e+02, 7.4734e-03,\n",
      "        1.2000e+02, 6.8755e-03, 1.3000e+02, 7.4272e-03, 1.4000e+02, 7.0248e-03,\n",
      "        1.5000e+02, 5.6474e-03, 1.6000e+02, 8.6812e-04, 1.7000e+02, 0.0000e+00,\n",
      "        1.8000e+02, 0.0000e+00, 1.9000e+02, 0.0000e+00, 2.0000e+02, 0.0000e+00,\n",
      "        2.1000e+02, 0.0000e+00, 2.2000e+02, 0.0000e+00, 2.3000e+02, 0.0000e+00,\n",
      "        2.4000e+02, 0.0000e+00, 2.5000e+02, 0.0000e+00, 2.6000e+02, 0.0000e+00,\n",
      "        2.7000e+02, 0.0000e+00, 2.8000e+02, 0.0000e+00, 2.9000e+02, 0.0000e+00,\n",
      "        3.0000e+02, 0.0000e+00, 3.1000e+02, 0.0000e+00, 3.2000e+02, 0.0000e+00,\n",
      "        3.3000e+02, 0.0000e+00, 3.4000e+02, 0.0000e+00, 3.5000e+02, 0.0000e+00,\n",
      "        3.6000e+02, 0.0000e+00, 3.7000e+02, 0.0000e+00, 3.8000e+02, 0.0000e+00,\n",
      "        3.9000e+02, 0.0000e+00, 4.0000e+02, 0.0000e+00, 4.1000e+02, 0.0000e+00,\n",
      "        4.2000e+02, 0.0000e+00, 4.3000e+02, 0.0000e+00, 4.4000e+02, 0.0000e+00,\n",
      "        4.5000e+02, 0.0000e+00, 4.6000e+02, 0.0000e+00, 4.7000e+02, 0.0000e+00,\n",
      "        4.8000e+02, 0.0000e+00, 4.9000e+02, 0.0000e+00, 0.0000e+00, 9.5493e-03,\n",
      "        1.0000e+01, 6.3662e-03, 2.0000e+01, 7.0028e-03, 3.0000e+01, 8.1851e-03,\n",
      "        4.0000e+01, 6.0125e-03, 5.0000e+01, 7.2343e-03, 6.0000e+01, 7.1008e-03,\n",
      "        7.0000e+01, 7.6394e-03, 8.0000e+01, 7.1152e-03, 9.0000e+01, 7.8740e-03,\n",
      "        1.0000e+02, 6.5178e-03, 1.1000e+02, 7.6118e-03, 1.2000e+02, 7.7668e-03,\n",
      "        1.3000e+02, 6.9557e-03, 1.4000e+02, 7.5736e-03, 1.5000e+02, 5.0313e-03,\n",
      "        1.6000e+02, 1.0610e-03, 1.7000e+02, 0.0000e+00, 1.8000e+02, 0.0000e+00,\n",
      "        1.9000e+02, 0.0000e+00, 2.0000e+02, 0.0000e+00, 2.1000e+02, 0.0000e+00,\n",
      "        2.2000e+02, 0.0000e+00, 2.3000e+02, 0.0000e+00, 2.4000e+02, 0.0000e+00,\n",
      "        2.5000e+02, 0.0000e+00, 2.6000e+02, 0.0000e+00, 2.7000e+02, 0.0000e+00,\n",
      "        2.8000e+02, 0.0000e+00, 2.9000e+02, 0.0000e+00, 3.0000e+02, 0.0000e+00,\n",
      "        3.1000e+02, 0.0000e+00, 3.2000e+02, 0.0000e+00, 3.3000e+02, 0.0000e+00,\n",
      "        3.4000e+02, 0.0000e+00, 3.5000e+02, 0.0000e+00, 3.6000e+02, 0.0000e+00,\n",
      "        3.7000e+02, 0.0000e+00, 3.8000e+02, 0.0000e+00, 3.9000e+02, 0.0000e+00,\n",
      "        4.0000e+02, 0.0000e+00, 4.1000e+02, 0.0000e+00, 4.2000e+02, 0.0000e+00,\n",
      "        4.3000e+02, 0.0000e+00, 4.4000e+02, 0.0000e+00, 4.5000e+02, 0.0000e+00,\n",
      "        4.6000e+02, 0.0000e+00, 4.7000e+02, 0.0000e+00, 4.8000e+02, 0.0000e+00,\n",
      "        4.9000e+02, 0.0000e+00], dtype=torch.float64)\n"
     ]
    }
   ],
   "source": [
    "# Exemple 1 : exécuter la simulation avec un vecteur de paramètres\n",
    "print(simulation(torch.tensor([0.5, 0.05, 10, 1.25])))\n",
    "\n",
    "# Exemple 2 : exécuter la simulation avec une matrice de paramètres\n",
    "print(simulation(torch.tensor([[0.5, 0.05, 10, 1.25],[0.5, 0.05, 10, 1.25]])))\n"
   ]
  },
  {
   "cell_type": "markdown",
   "metadata": {},
   "source": [
    "### Template de fonction simulation\n",
    "___"
   ]
  },
  {
   "cell_type": "code",
   "execution_count": null,
   "metadata": {},
   "outputs": [],
   "source": [
    "import torch\n",
    "import subprocess\n",
    "\n",
    "def simulation(params):\n",
    "\n",
    "    # Vérifier si les paramètres sont un vecteur ou une matrice\n",
    "    # Si c'est un vecteur, n=1, simulation(torch.tensor([0.5, 0.05, 10, 1.25]))\n",
    "    # Si c'est une matrice, n=nombre de lignes, simulation(torch.tensor([[0.5, 0.05, 10, 1.25], [0.6, 0.06, 11, 1.26]])) Attention, une parenthèse en plus\n",
    "    if len(params.shape) == 1:\n",
    "        n = 1\n",
    "        num_params = len(params)\n",
    "    else:\n",
    "        n, num_params = params.shape\n",
    "    \n",
    "    results = []\n",
    "    \n",
    "    for i in range(n):\n",
    "        if n == 1:\n",
    "            current_params = params\n",
    "        else:\n",
    "            current_params = params[i]\n",
    "\n",
    "        #### MODIFICATION DES PARAMÈTRES DANS LES FICHIERS XML OU CSV\n",
    "\n",
    "        ##### À COMPLÉTER #####\n",
    "\n",
    "        #####\n",
    "\n",
    "        #### LANCER LA SIMULATION \n",
    "        subprocess.run([\"./project\"], stdout=subprocess.DEVNULL)\n",
    "        ####\n",
    "\n",
    "        #### EXTRACTION DES DONNEES RESULTANTES\n",
    "\n",
    "        ##### À COMPLÉTER #####\n",
    "\n",
    "        #####\n",
    "\n",
    "\n",
    "    results = torch.cat(results)\n",
    "    return results.flatten()"
   ]
  },
  {
   "cell_type": "markdown",
   "metadata": {},
   "source": [
    "## Inférence\n",
    "___\n",
    "\n",
    "Pour faire de l'inférence avec PhysiCell, il faut avoir chargé un projet et l'avoir compilé avant de pouvoir lancer les étapes suivantes. Les paramètres constant (ceux qu'on ne cherche pas à faire varier) n'ont pas forcément les même valeur d'un projet PhysiCell à un autre.\n",
    "\n",
    "### Initialisation de l'a priori\n",
    "___"
   ]
  },
  {
   "cell_type": "code",
   "execution_count": null,
   "metadata": {},
   "outputs": [],
   "source": [
    "import torch\n",
    "from sbi.inference import prepare_for_sbi\n",
    "\n",
    "from sbi import utils as utils\n",
    "from sbi import analysis as analysis\n",
    "\n",
    "# Définir les bornes inférieures pour chaque dimension\n",
    "low = torch.tensor([0, 0, 0, 0]) # 4 paramètres donc 4 bornes min\n",
    "\n",
    "# Définir les bornes supérieures pour chaque dimension\n",
    "high = torch.tensor([1, 1, 10, 2]) # 4 paramètres donc 4 bornes max\n",
    "\n",
    "# Créer le a priori uniforme avec les bornes spécifiées\n",
    "prior = utils.BoxUniform(low=low, high=high)\n",
    "\n",
    "simulator, prior = prepare_for_sbi(simulation, prior)"
   ]
  },
  {
   "cell_type": "markdown",
   "metadata": {},
   "source": [
    "### Choix du type d'inférence\n",
    "___\n",
    "\n",
    "Plusieurs méthodes disponibles dans la librairie sbi.\n",
    "Perspective à approfondir"
   ]
  },
  {
   "cell_type": "code",
   "execution_count": null,
   "metadata": {},
   "outputs": [],
   "source": [
    "from sbi.inference import SNPE\n",
    "\n",
    "inference = SNPE(prior=prior)"
   ]
  },
  {
   "cell_type": "markdown",
   "metadata": {},
   "source": [
    "### Génération de données fictives du simulateur\n",
    "___\n",
    "\n",
    "Choisir le nombre de simulation, plus il y en a, plus le modèle pourra bien s'entrainer (Attention, demande beaucoup de temps)"
   ]
  },
  {
   "cell_type": "code",
   "execution_count": null,
   "metadata": {},
   "outputs": [],
   "source": [
    "from sbi.inference import simulate_for_sbi\n",
    "\n",
    "theta, x = simulate_for_sbi(simulator, proposal=prior, num_simulations=5) # 5 simulations pour l'exemple"
   ]
  },
  {
   "cell_type": "markdown",
   "metadata": {},
   "source": [
    "### Entrainement du modèle\n",
    "___\n",
    "\n",
    "Assez rapide, n'a jamais duré plus de 10 minutes"
   ]
  },
  {
   "cell_type": "code",
   "execution_count": null,
   "metadata": {},
   "outputs": [],
   "source": [
    "# On ajoute les simulations à l'objet inference\n",
    "inference = inference.append_simulations(theta, x)\n",
    "\n",
    "# On entraîne le réseau de neurones\n",
    "density_estimator = inference.train()"
   ]
  },
  {
   "cell_type": "markdown",
   "metadata": {},
   "source": [
    "### Enregistrer les données simulées\n",
    "___\n",
    "Etape pour sauvegarder dans des fichiers les données simulées qui ont demandé beaucoup de calculs"
   ]
  },
  {
   "cell_type": "code",
   "execution_count": null,
   "metadata": {},
   "outputs": [],
   "source": [
    "import pickle\n",
    "# Attention à bien changer les chemins pour sauvegarder les fichiers.pkl\n",
    "\n",
    "with open(\"/home/aymeric/tumor-simulation/NN/leader/simulated_data1000.pkl\", \"wb\") as handle:\n",
    "    pickle.dump((theta, x), handle)\n",
    "with open(\"/home/aymeric/tumor-simulation/NN/leader/density_estimator1000.pkl\", \"wb\") as handle:\n",
    "    pickle.dump(density_estimator, handle)"
   ]
  },
  {
   "cell_type": "markdown",
   "metadata": {},
   "source": [
    "### Charger des données depuis des fichiers .pkl\n",
    "___"
   ]
  },
  {
   "cell_type": "code",
   "execution_count": null,
   "metadata": {},
   "outputs": [],
   "source": [
    "import pickle\n",
    "# Attention à bien changer les chemins pour charger les bons fichiers.pkl\n",
    "\n",
    "with open(\"/home/aymeric/tumor-simulation/NN/leader/simulated_data1000.pkl\", \"rb\") as handle:\n",
    "    theta, x = pickle.load(handle)\n",
    "with open(\"/home/aymeric/tumor-simulation/NN/leader/density_estimator1000.pkl\", \"rb\") as handle:\n",
    "    density_estimator = pickle.load(handle)"
   ]
  },
  {
   "cell_type": "markdown",
   "metadata": {},
   "source": [
    "### Construction du posterieur\n",
    "___"
   ]
  },
  {
   "cell_type": "code",
   "execution_count": null,
   "metadata": {},
   "outputs": [],
   "source": [
    "posterior = inference.build_posterior(density_estimator)"
   ]
  },
  {
   "cell_type": "code",
   "execution_count": null,
   "metadata": {},
   "outputs": [],
   "source": [
    "theta = torch.tensor([0.5, 0.5, 10, 1.25]) # Paramètre de départ que l'on cherche à prédire\n",
    "x_o = simulation(theta) # Résultat de la simulation pour le paramètre de départ"
   ]
  },
  {
   "cell_type": "code",
   "execution_count": null,
   "metadata": {},
   "outputs": [],
   "source": [
    "# On génère 10000 échantillons à partir du posterior (très rapide car on utilise un NN)\n",
    "posterior_samples = posterior.sample((10000,), x=x_o) \n",
    "\n",
    "# plot posterior samples\n",
    "_ = analysis.pairplot(\n",
    "    posterior_samples, limits=[[0, 1], [0, 1], [0, 10], [0, 2]], figsize=(5, 5) # bornes min et max pour chaque paramètre à changer\n",
    ")"
   ]
  },
  {
   "cell_type": "markdown",
   "metadata": {},
   "source": [
    "## Vérification des résultats\n",
    "___\n",
    "\n",
    "### Fonctions de mesures d'erreurs\n",
    "___\n"
   ]
  },
  {
   "cell_type": "code",
   "execution_count": null,
   "metadata": {},
   "outputs": [],
   "source": [
    "import numpy as np\n",
    "\n",
    "def calculate_mse(list1, list2):\n",
    "    \"\"\"Calculer l'erreur quadratique moyenne entre deux listes.\"\"\"\n",
    "    return np.mean((np.array(list1) - np.array(list2)) ** 2)\n",
    "\n",
    "def calculate_nmse(list1, list2):\n",
    "    \"\"\"Calculer l'erreur quadratique moyenne normalisée.\"\"\"\n",
    "    mse = calculate_mse(list1, list2)\n",
    "    variance = np.var(list1)\n",
    "    return mse / variance if variance != 0 else float('inf')\n",
    "\n",
    "def calculate_relative_mse(list1, list2):\n",
    "    \"\"\"Calculer l'erreur quadratique relative.\"\"\"\n",
    "    mse = calculate_mse(list1, list2)\n",
    "    mean1 = np.mean(list1)\n",
    "    mean2 = np.mean(list2)\n",
    "    relative_mse = mse / ((mean1 + mean2) / 2)\n",
    "    return relative_mse\n",
    "\n",
    "def calculate_mae(list1, list2):\n",
    "    \"\"\"Calculer l'erreur absolue moyenne entre deux listes.\"\"\"\n",
    "    return np.mean(np.abs(np.array(list1) - np.array(list2)))\n",
    "\n",
    "def calculate_log_mse(list1, list2):\n",
    "    \"\"\"Calculer le logarithme de l'erreur quadratique moyenne.\"\"\"\n",
    "    mse = calculate_mse(list1, list2)\n",
    "    return np.log(mse + 1e-10)  # Éviter log(0) avec une petite constante"
   ]
  },
  {
   "cell_type": "code",
   "execution_count": null,
   "metadata": {},
   "outputs": [],
   "source": [
    "print(posterior_samples.median(dim=0).values)\n",
    "predicted_tensor = simulation(posterior_samples.median(dim=0).values)\n",
    "print(predicted_tensor)\n",
    "\n",
    "\n",
    "# Exemples de listes\n",
    "list1 = x_o.numpy()\n",
    "list2 = predicted_tensor.numpy()\n",
    "\n",
    "# Calcul des différentes métriques\n",
    "mse = calculate_mse(list1, list2)\n",
    "nmse = calculate_nmse(list1, list2)\n",
    "relative_mse = calculate_relative_mse(list1, list2)\n",
    "mae = calculate_mae(list1, list2)\n",
    "log_mse = calculate_log_mse(list1, list2)\n",
    "\n",
    "# Affichage des résultats\n",
    "print(f\"Erreur quadratique moyenne (MSE) : {mse}\")\n",
    "print(f\"Erreur quadratique moyenne normalisée (NMSE) : {nmse}\")\n",
    "print(f\"Erreur quadratique relative : {relative_mse}\")\n",
    "print(f\"Erreur absolue moyenne (MAE) : {mae}\")\n",
    "print(f\"Logarithme de l'erreur quadratique moyenne (Log MSE) : {log_mse}\")"
   ]
  }
 ],
 "metadata": {
  "kernelspec": {
   "display_name": "env",
   "language": "python",
   "name": "python3"
  },
  "language_info": {
   "codemirror_mode": {
    "name": "ipython",
    "version": 3
   },
   "file_extension": ".py",
   "mimetype": "text/x-python",
   "name": "python",
   "nbconvert_exporter": "python",
   "pygments_lexer": "ipython3",
   "version": "3.10.12"
  }
 },
 "nbformat": 4,
 "nbformat_minor": 2
}
